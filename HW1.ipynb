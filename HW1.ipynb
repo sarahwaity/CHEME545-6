{
 "cells": [
  {
   "cell_type": "markdown",
   "metadata": {},
   "source": [
    "# **Ultrafast neuronal imaging of dopamine dynamics with desinged genetically encoded sensors**\n",
    "## T. Patriarchi *et al.*, *Science*, 10.1126/science.aat4422 (2018) [link](https://science.sciencemag.org/content/360/6396/eaat4422)\n",
    "## Reviewed by Sarah Wait\n"
   ]
  },
  {
   "cell_type": "markdown",
   "metadata": {},
   "source": [
    "The relationship of dopamine loss or dysfunction to neurological anomalies such as Parkinson’s, schizophrenia, and addiction are well elucidated. However, the field currently lacks a robust technique to monitor the spatiotemporal effects of neuromodulators on the target function. The authors aimed to develop a fluorescent reporter coupled to dopamine receptors to track transmembrane flux. By attaching cpGFP to the binding pocket of DRD1 (referred to as dLight1.1) they demonstrated a strong positive response to dopamine stimulation. To show the specificity of the engineered sensor they stimulated with other neuromodulators (EG norepinephrine) and saw a 30% reduction in sensor response. Additionally, treatment of transfected cells *in vitro* with cocaine showed delayed dopamine decay. With proper response *in vitro*, mice were infected with dLight1.1 using adenovirus then monitored in Pavlovian behavioral studies. By performing chronic imaging to cue rewards, they found that they could track the dopamine response to both conditioned and unconditioned learning. Mice that received a bell tone before stimulus came to expect the reward and the dopamine response had decreased peak with each learning interval. However, unconditioned mice showed a considerable dopamine response with increased peak response with each learning. dLight1.1 proved to act as a robust technique to monitor cellular response to dopamine stimulation and provided insight into Pavlovian behavioral studies."
   ]
  }
 ],
 "metadata": {
  "kernelspec": {
   "display_name": "Python 3",
   "language": "python",
   "name": "python3"
  },
  "language_info": {
   "codemirror_mode": {
    "name": "ipython",
    "version": 3
   },
   "file_extension": ".py",
   "mimetype": "text/x-python",
   "name": "python",
   "nbconvert_exporter": "python",
   "pygments_lexer": "ipython3",
   "version": "3.8.3"
  }
 },
 "nbformat": 4,
 "nbformat_minor": 4
}
